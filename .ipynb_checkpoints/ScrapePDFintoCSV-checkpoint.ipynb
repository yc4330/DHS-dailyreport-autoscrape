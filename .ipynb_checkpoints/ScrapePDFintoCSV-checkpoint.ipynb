{
 "cells": [
  {
   "cell_type": "code",
   "execution_count": 1,
   "id": "57029da4-0213-4570-8d6a-653d05428cc6",
   "metadata": {},
   "outputs": [],
   "source": [
    "from tika import parser\n",
    "import re\n",
    "import pandas as pd"
   ]
  },
  {
   "cell_type": "code",
   "execution_count": 2,
   "id": "366e4608-e339-4596-9f94-dec14e22bca6",
   "metadata": {},
   "outputs": [
    {
     "name": "stderr",
     "output_type": "stream",
     "text": [
      "2023-12-08 00:41:13,602 [MainThread  ] [INFO ]  Retrieving https://www.nyc.gov/assets/dhs/downloads/pdf/dailyreport.pdf to /var/folders/21/d_7v4w8j3jg95zjx8lfqpw800000gn/T/assets-dhs-downloads-pdf-dailyreport.pdf.\n"
     ]
    },
    {
     "name": "stdout",
     "output_type": "stream",
     "text": [
      "December 06, 2023\n"
     ]
    }
   ],
   "source": [
    "parsed = parser.from_file(\"https://www.nyc.gov/assets/dhs/downloads/pdf/dailyreport.pdf\")\n",
    "content = parsed['content'].strip()\n",
    "date = re.findall(r\" (\\w+ \\d+, \\d{4})\\)\", content)[0]\n",
    "print(date)"
   ]
  },
  {
   "cell_type": "code",
   "execution_count": 3,
   "id": "bdbacc03-2ff3-4be5-9b9c-868b59163bb4",
   "metadata": {},
   "outputs": [
    {
     "data": {
      "text/plain": [
       "'2023-12-06'"
      ]
     },
     "execution_count": 3,
     "metadata": {},
     "output_type": "execute_result"
    }
   ],
   "source": [
    "date = pd.to_datetime(date).strftime('%Y-%m-%d')\n",
    "date"
   ]
  },
  {
   "cell_type": "code",
   "execution_count": 115,
   "id": "82e1c012-f3ae-4527-998f-9f2f5c422964",
   "metadata": {},
   "outputs": [],
   "source": [
    "TOTAL_SHELTER_CENSUS = {'date': [date]}\n",
    "SINGLE_ADULTS = {'date': [date]}\n",
    "FAMILIES_WITH_CHILDREN = {'date': [date]}\n",
    "ADULT_FAMILIES_CENSUS = {'date': [date]}"
   ]
  },
  {
   "cell_type": "code",
   "execution_count": null,
   "id": "2ce4ab8b-63c9-441e-90ab-6370baf45401",
   "metadata": {},
   "outputs": [],
   "source": [
    "i = 0\n",
    "lines = re.split(r'\\n+', content)\n",
    "for line in lines:\n",
    "    i += 1\n",
    "    if re.search(r'\\s+Adults\\s+\\d+', line):\n",
    "        break\n",
    "cleaned_lines = []\n",
    "j = 0\n",
    "while len(cleaned_lines) < 12:\n",
    "    if re.search(r'[\\w ]+[\\d,]+', lines[i-1+j]):\n",
    "        cleaned_lines.append(lines[i-1+j])\n",
    "    j += 1"
   ]
  },
  {
   "cell_type": "code",
   "execution_count": null,
   "id": "ffb0723a-73d8-4365-af07-4ff63f6f96c0",
   "metadata": {},
   "outputs": [],
   "source": [
    "cleaned_number = []\n",
    "for line in cleaned_lines:\n",
    "    number = re.findall(r'\\s([\\d,]+)$', line.strip())[0]\n",
    "    cleaned_number.append(number.replace(\",\", \"\"))"
   ]
  },
  {
   "cell_type": "code",
   "execution_count": 118,
   "id": "b3bf5cd1-1b9f-4668-b3f1-8612356e7913",
   "metadata": {},
   "outputs": [],
   "source": [
    "TOTAL_SHELTER_CENSUS['Adults'] = [cleaned_number[0]]\n",
    "TOTAL_SHELTER_CENSUS['Children'] = [cleaned_number[1]]\n",
    "TOTAL_SHELTER_CENSUS['Total Individuals'] = [cleaned_number[2]]\n",
    "SINGLE_ADULTS['Men'] = [cleaned_number[3]]\n",
    "SINGLE_ADULTS['Women'] = [cleaned_number[4]]\n",
    "SINGLE_ADULTS['Total Single Adults'] = [cleaned_number[5]]\n",
    "FAMILIES_WITH_CHILDREN['Families'] = [cleaned_number[6]]\n",
    "FAMILIES_WITH_CHILDREN['Adults'] = [cleaned_number[7]]\n",
    "FAMILIES_WITH_CHILDREN['Children'] = [cleaned_number[8]]\n",
    "FAMILIES_WITH_CHILDREN['Individuals'] = [cleaned_number[9]]\n",
    "ADULT_FAMILIES_CENSUS['Families'] = [cleaned_number[10]]\n",
    "ADULT_FAMILIES_CENSUS['Individuals (Adults)'] = [cleaned_number[11]]"
   ]
  },
  {
   "cell_type": "code",
   "execution_count": 119,
   "id": "bb43a239-fcc3-4d71-a4c0-78cbcaf25f44",
   "metadata": {},
   "outputs": [],
   "source": [
    "df1 = pd.DataFrame(TOTAL_SHELTER_CENSUS)\n",
    "df2 = pd.DataFrame(SINGLE_ADULTS)\n",
    "df3 = pd.DataFrame(FAMILIES_WITH_CHILDREN)\n",
    "df4 = pd.DataFrame(ADULT_FAMILIES_CENSUS)"
   ]
  },
  {
   "cell_type": "code",
   "execution_count": 120,
   "id": "0a5f593f-b9bc-47c9-8acf-33eab3434a77",
   "metadata": {},
   "outputs": [],
   "source": [
    "df01 = pd.read_csv(\"TOTAL_SHELTER_CENSUS.csv\")\n",
    "df02 = pd.read_csv(\"SINGLE_ADULTS.csv\")\n",
    "df03 = pd.read_csv(\"FAMILIES_WITH_CHILDREN.csv\")\n",
    "df04 = pd.read_csv(\"ADULT_FAMILIES_CENSUS.csv\")\n",
    "\n",
    "df01 = pd.concat([df01, df1]).reset_index(drop=True)\n",
    "df02 = pd.concat([df02, df2]).reset_index(drop=True)\n",
    "df03 = pd.concat([df03, df3]).reset_index(drop=True)\n",
    "df04 = pd.concat([df04, df4]).reset_index(drop=True)\n",
    "\n",
    "df01 = df01.sort_values(by='date').drop_duplicates(subset='date', keep='first').reset_index(drop=True)\n",
    "df02 = df02.sort_values(by='date').drop_duplicates(subset='date', keep='first').reset_index(drop=True)\n",
    "df03 = df03.sort_values(by='date').drop_duplicates(subset='date', keep='first').reset_index(drop=True)\n",
    "df04 = df04.sort_values(by='date').drop_duplicates(subset='date', keep='first').reset_index(drop=True)\n",
    "\n",
    "df01.to_csv(\"TOTAL_SHELTER_CENSUS.csv\", index=False)\n",
    "df02.to_csv(\"SINGLE_ADULTS.csv\", index=False)\n",
    "df03.to_csv(\"FAMILIES_WITH_CHILDREN.csv\", index=False)\n",
    "df04.to_csv(\"ADULT_FAMILIES_CENSUS.csv\", index=False)"
   ]
  },
  {
   "cell_type": "code",
   "execution_count": null,
   "id": "4b6c8e00-a8c7-41ea-883f-8c4966615c02",
   "metadata": {},
   "outputs": [],
   "source": []
  }
 ],
 "metadata": {
  "kernelspec": {
   "display_name": "Python 3 (ipykernel)",
   "language": "python",
   "name": "python3"
  },
  "language_info": {
   "codemirror_mode": {
    "name": "ipython",
    "version": 3
   },
   "file_extension": ".py",
   "mimetype": "text/x-python",
   "name": "python",
   "nbconvert_exporter": "python",
   "pygments_lexer": "ipython3",
   "version": "3.11.6"
  }
 },
 "nbformat": 4,
 "nbformat_minor": 5
}
