{
 "cells": [
  {
   "cell_type": "code",
   "execution_count": 112,
   "id": "57029da4-0213-4570-8d6a-653d05428cc6",
   "metadata": {},
   "outputs": [],
   "source": [
    "from tika import parser\n",
    "import re\n",
    "import pandas as pd"
   ]
  },
  {
   "cell_type": "code",
   "execution_count": 113,
   "id": "366e4608-e339-4596-9f94-dec14e22bca6",
   "metadata": {},
   "outputs": [
    {
     "name": "stderr",
     "output_type": "stream",
     "text": [
      "2023-12-04 18:12:59,433 [MainThread  ] [INFO ]  Retrieving https://www.nyc.gov/assets/dhs/downloads/pdf/dailyreport.pdf to /var/folders/21/d_7v4w8j3jg95zjx8lfqpw800000gn/T/assets-dhs-downloads-pdf-dailyreport.pdf.\n"
     ]
    },
    {
     "name": "stdout",
     "output_type": "stream",
     "text": [
      "December 03, 2023\n"
     ]
    }
   ],
   "source": [
    "parsed = parser.from_file(\"https://www.nyc.gov/assets/dhs/downloads/pdf/dailyreport.pdf\")\n",
    "content = parsed['content'].strip()\n",
    "date = re.findall(r\" (\\w+ \\d{2}, \\d{4})\\)\", content)[0]\n",
    "print(date)"
   ]
  },
  {
   "cell_type": "code",
   "execution_count": 114,
   "id": "bdbacc03-2ff3-4be5-9b9c-868b59163bb4",
   "metadata": {},
   "outputs": [
    {
     "data": {
      "text/plain": [
       "Timestamp('2023-12-03 00:00:00')"
      ]
     },
     "execution_count": 114,
     "metadata": {},
     "output_type": "execute_result"
    }
   ],
   "source": [
    "date = pd.to_datetime(date)\n",
    "date"
   ]
  },
  {
   "cell_type": "code",
   "execution_count": 115,
   "id": "82e1c012-f3ae-4527-998f-9f2f5c422964",
   "metadata": {},
   "outputs": [],
   "source": [
    "TOTAL_SHELTER_CENSUS = {'date': [date]}\n",
    "SINGLE_ADULTS = {'date': [date]}\n",
    "FAMILIES_WITH_CHILDREN = {'date': [date]}\n",
    "ADULT_FAMILIES_CENSUS = {'date': [date]}"
   ]
  },
  {
   "cell_type": "code",
   "execution_count": 116,
   "id": "2ce4ab8b-63c9-441e-90ab-6370baf45401",
   "metadata": {},
   "outputs": [
    {
     "data": {
      "text/plain": [
       "['',\n",
       " '56,284',\n",
       " '33,147',\n",
       " '89,431',\n",
       " '89,431',\n",
       " '16,053',\n",
       " '5,077',\n",
       " '21,130',\n",
       " '19,398',\n",
       " '30,361',\n",
       " '33,147',\n",
       " '63,508',\n",
       " '2,245',\n",
       " '4,793']"
      ]
     },
     "execution_count": 116,
     "metadata": {},
     "output_type": "execute_result"
    }
   ],
   "source": [
    "content = re.split('NA 0', content)[1].strip()\n",
    "content = re.split('TOTAL SHELTER CENSUS\\n\\nDAILY REPORT', content)[0].strip()\n",
    "numbers = re.split(r'[^\\d,]+', content)\n",
    "numbers"
   ]
  },
  {
   "cell_type": "code",
   "execution_count": 117,
   "id": "ffb0723a-73d8-4365-af07-4ff63f6f96c0",
   "metadata": {},
   "outputs": [
    {
     "data": {
      "text/plain": [
       "['56284',\n",
       " '33147',\n",
       " '89431',\n",
       " '16053',\n",
       " '5077',\n",
       " '21130',\n",
       " '19398',\n",
       " '30361',\n",
       " '33147',\n",
       " '63508',\n",
       " '2245',\n",
       " '4793']"
      ]
     },
     "execution_count": 117,
     "metadata": {},
     "output_type": "execute_result"
    }
   ],
   "source": [
    "cleaned_number = []\n",
    "for i in range(len(numbers)):\n",
    "    if numbers[i] != '':\n",
    "        if (i>0) and (numbers[i] != numbers[i-1]):\n",
    "            cleaned_number.append(re.sub(\",\", \"\", numbers[i]))\n",
    "cleaned_number"
   ]
  },
  {
   "cell_type": "code",
   "execution_count": 118,
   "id": "b3bf5cd1-1b9f-4668-b3f1-8612356e7913",
   "metadata": {},
   "outputs": [],
   "source": [
    "if len(cleaned_number) == 12:\n",
    "    TOTAL_SHELTER_CENSUS['Adults'] = [cleaned_number[0]]\n",
    "    TOTAL_SHELTER_CENSUS['Children'] = [cleaned_number[1]]\n",
    "    TOTAL_SHELTER_CENSUS['Total Individuals'] = [cleaned_number[2]]\n",
    "    SINGLE_ADULTS['Men'] = [cleaned_number[3]]\n",
    "    SINGLE_ADULTS['Women'] = [cleaned_number[4]]\n",
    "    SINGLE_ADULTS['Total Single Adults'] = [cleaned_number[5]]\n",
    "    FAMILIES_WITH_CHILDREN['Families'] = [cleaned_number[6]]\n",
    "    FAMILIES_WITH_CHILDREN['Adults'] = [cleaned_number[7]]\n",
    "    FAMILIES_WITH_CHILDREN['Children'] = [cleaned_number[8]]\n",
    "    FAMILIES_WITH_CHILDREN['Individuals'] = [cleaned_number[9]]\n",
    "    ADULT_FAMILIES_CENSUS['Families'] = [cleaned_number[10]]\n",
    "    ADULT_FAMILIES_CENSUS['Individuals (Adults)'] = [cleaned_number[11]]\n",
    "else:\n",
    "    print('error: lines can not match. Examine the scrapping part')"
   ]
  },
  {
   "cell_type": "code",
   "execution_count": 119,
   "id": "bb43a239-fcc3-4d71-a4c0-78cbcaf25f44",
   "metadata": {},
   "outputs": [],
   "source": [
    "df1 = pd.DataFrame(TOTAL_SHELTER_CENSUS)\n",
    "df2 = pd.DataFrame(SINGLE_ADULTS)\n",
    "df3 = pd.DataFrame(FAMILIES_WITH_CHILDREN)\n",
    "df4 = pd.DataFrame(ADULT_FAMILIES_CENSUS)"
   ]
  },
  {
   "cell_type": "code",
   "execution_count": 120,
   "id": "0a5f593f-b9bc-47c9-8acf-33eab3434a77",
   "metadata": {},
   "outputs": [],
   "source": [
    "df01 = pd.read_csv(\"TOTAL_SHELTER_CENSUS.csv\")\n",
    "df02 = pd.read_csv(\"SINGLE_ADULTS.csv\")\n",
    "df03 = pd.read_csv(\"FAMILIES_WITH_CHILDREN.csv\")\n",
    "df04 = pd.read_csv(\"ADULT_FAMILIES_CENSUS.csv\")\n",
    "if date not in df01['date'].values:\n",
    "    pd.concat([df01, df1]).reset_index(drop=True).to_csv(\"TOTAL_SHELTER_CENSUS.csv\", index=False)\n",
    "    pd.concat([df02, df2]).reset_index(drop=True).to_csv(\"SINGLE_ADULTS.csv\", index=False)\n",
    "    pd.concat([df03, df3]).reset_index(drop=True).to_csv(\"FAMILIES_WITH_CHILDREN.csv\", index=False)\n",
    "    pd.concat([df04, df4]).reset_index(drop=True).to_csv(\"ADULT_FAMILIES_CENSUS.csv\", index=False)"
   ]
  },
  {
   "cell_type": "code",
   "execution_count": null,
   "id": "4b6c8e00-a8c7-41ea-883f-8c4966615c02",
   "metadata": {},
   "outputs": [],
   "source": []
  }
 ],
 "metadata": {
  "kernelspec": {
   "display_name": "Python 3 (ipykernel)",
   "language": "python",
   "name": "python3"
  },
  "language_info": {
   "codemirror_mode": {
    "name": "ipython",
    "version": 3
   },
   "file_extension": ".py",
   "mimetype": "text/x-python",
   "name": "python",
   "nbconvert_exporter": "python",
   "pygments_lexer": "ipython3",
   "version": "3.11.6"
  }
 },
 "nbformat": 4,
 "nbformat_minor": 5
}
